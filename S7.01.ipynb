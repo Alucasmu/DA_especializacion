{
 "cells": [
  {
   "cell_type": "code",
   "execution_count": 9,
   "metadata": {},
   "outputs": [],
   "source": [
    "import pandas as pd\n"
   ]
  },
  {
   "cell_type": "markdown",
   "metadata": {},
   "source": [
    "- Exercici 1\n",
    "Calculadora de l'índex de massa corporal\n",
    "\n",
    "Escriu una funció que calculi l'IMC ingressat per l'usuari/ària, és a dir, qui ho executi haurà d'ingressar aquestes dades. Pots obtenir més informació del seu càlcul en:\n",
    "\n",
    "-> Índice de masa corporal IMC que es y como se calcula.\n",
    "\n",
    "La funció ha de classificar el resultat en les seves respectives categories"
   ]
  },
  {
   "cell_type": "code",
   "execution_count": 22,
   "metadata": {},
   "outputs": [
    {
     "name": "stdout",
     "output_type": "stream",
     "text": [
      "Tu índice de masa corporal es 21.5 y tu categoría es Peso Normal\n"
     ]
    }
   ],
   "source": [
    "try:\n",
    "    peso = float(input (f\"Dime tu peso en kg\"))\n",
    "    altura = float(input (f\"Dime tu altura en metros\"))\n",
    "\n",
    "    if peso > 0 and altura > 0:\n",
    "        imc = round(peso/(altura**2), 2)\n",
    "\n",
    "        if imc < 18.5:\n",
    "            print(f\"Tu índice de masa corporal es {imc} y tu categoría es Bajo Peso\")\n",
    "        elif 18.5 <= imc < 25:\n",
    "            print(f\"Tu índice de masa corporal es {imc} y tu categoría es Peso Normal\") \n",
    "        elif 25 <= imc < 30:\n",
    "            print(f\"Tu índice de masa corporal es {imc} y tu categoría es Sobrepeso\")  \n",
    "        else:\n",
    "            print(f\"Tu índice de masa corporal es {imc} y tu categoría es Obesidad\")\n",
    "       \n",
    "    else:\n",
    "        print(\"Introde un número mayor que 0\")\n",
    "\n",
    "except ValueError:\n",
    "    print(\"Introduce un número válido\")\n",
    "\n"
   ]
  },
  {
   "cell_type": "markdown",
   "metadata": {},
   "source": [
    "- Exercici 2\n",
    "Convertidor de temperatures.\n",
    "\n",
    "Existeixen diverses unitats de temperatura utilitzades en diferents contextos i regions. Les més comunes són Celsius (°C), Fahrenheit (°F) i Kelvin (K). També existeixen altres unitats com Rankine (°Ra) i Réaumur (°Re). Selecciona almenys 2 conversors, de tal manera que en introduir una temperatura retorni, com a mínim, dues conversions."
   ]
  },
  {
   "cell_type": "code",
   "execution_count": 27,
   "metadata": {},
   "outputs": [
    {
     "name": "stdout",
     "output_type": "stream",
     "text": [
      "La temperatura es 72.0 ºF, 22.22 ºC, 295.37 ºK\n"
     ]
    }
   ],
   "source": [
    "try:\n",
    "    grados = float(input (f\"Dime la temperatura en grados\"))\n",
    "    escala = input (f\"Dime en qué escala están los grados: Celsius (C), Fahrenheit (F) o Kelvin (K)\")\n",
    "   \n",
    "    if escala.upper() in ['C','F','K']:\n",
    "        if escala.upper() == 'C':\n",
    "            grados_F = round((grados * 9/5) + 32, 2)\n",
    "            grados_K = round(grados + 273.15, 2)\n",
    "            print(f\"La temperatura es {grados} ºC, {grados_F} ºF, {grados_K} ºK\")\n",
    "        elif escala.upper() == 'F':\n",
    "            grados_C = round((grados - 32) * 5/9, 2)\n",
    "            grados_K = round((grados -32) * 5/9 + 273.15, 2)\n",
    "            print(f\"La temperatura es {grados} ºF, {grados_C} ºC, {grados_K} ºK\")\n",
    "        elif escala.upper() == 'K':\n",
    "            grados_C = round(grados - 273.15, 2)\n",
    "            grados_F = round(((grados - 273.15) * 9/5) + 32, 2)\n",
    "            print(f\"La temperatura es {grados} ºK, {grados_C} ºC, {grados_F} ºF\")\n",
    "    else:\n",
    "        print(\"Introde una escala válida\")\n",
    "\n",
    "except ValueError:\n",
    "    print(\"Introduce un valor válido\")"
   ]
  },
  {
   "cell_type": "markdown",
   "metadata": {},
   "source": [
    "- Exercici 3\n",
    "Comptador de paraules d'un text.\n",
    "\n",
    "Escriu una funció que donat un text, mostri les vegades que apareix cada paraula."
   ]
  },
  {
   "cell_type": "code",
   "execution_count": 46,
   "metadata": {},
   "outputs": [
    {
     "name": "stdout",
     "output_type": "stream",
     "text": [
      "{'escriu': 1, 'una': 1, 'funció': 1, 'que': 2, 'donat': 1, 'un': 1, 'text,': 1, 'mostri': 1, 'les': 1, 'vegades': 1, 'apareix': 1, 'cada': 1, 'paraula.': 1}\n",
      "escriu: 1\n",
      "una: 1\n",
      "funció: 1\n",
      "que: 2\n",
      "donat: 1\n",
      "un: 1\n",
      "text,: 1\n",
      "mostri: 1\n",
      "les: 1\n",
      "vegades: 1\n",
      "apareix: 1\n",
      "cada: 1\n",
      "paraula.: 1\n"
     ]
    }
   ],
   "source": [
    "texto = input(\"Dime un texto\")\n",
    "palabras = texto.split()\n",
    "palabras_texto = {}\n",
    "\n",
    "for x in palabras:\n",
    "    x = x.lower()\n",
    "    if x in palabras_texto:\n",
    "        palabras_texto[x] += 1 \n",
    "    else:\n",
    "        palabras_texto[x] = 1    \n",
    "\n",
    "print(palabras_texto)\n",
    "\n",
    "for palabra, repeticiones in palabras_texto.items():\n",
    "    print(f\"{palabra}: {repeticiones}\")\n"
   ]
  },
  {
   "cell_type": "markdown",
   "metadata": {},
   "source": [
    "- Exercici 4\n",
    "Diccionari invers.\n",
    "\n",
    "Resulta que el client té una enquesta molt antiga que s'emmagatzema en un diccionari i els resultats els necessita al revés, és a dir, intercanviats les claus i els valors. Els valors i claus en el diccionari original són únics; si aquest no és el cas, la funció hauria d'imprimir un missatge d'advertiment.\n"
   ]
  },
  {
   "cell_type": "code",
   "execution_count": 13,
   "metadata": {},
   "outputs": [
    {
     "name": "stdout",
     "output_type": "stream",
     "text": [
      "La clave 3 está repetida\n",
      "La clave 2 está repetida\n",
      "{1: 'a', 2: 'b', 3: 'c', 4: 'e', 5: 'f'}\n"
     ]
    }
   ],
   "source": [
    "diccionario = {'a': 1, 'b': 2, 'c': 3, 'd': 3, 'e': 4, 'f': 5, 'g': 2}\n",
    "diccionario_invertido = {}\n",
    "\n",
    "for x, y in diccionario.items():\n",
    "    if y in diccionario_invertido.keys():\n",
    "        print(f\"La clave {y} está repetida\")\n",
    "    else:\n",
    "        diccionario_invertido[y] = x\n",
    "\n",
    "print(diccionario_invertido)"
   ]
  },
  {
   "cell_type": "markdown",
   "metadata": {},
   "source": [
    "Nivell 2\n",
    "\n",
    "Exercici 1\n",
    "Diccionari invers amb duplicats\n",
    "\n",
    "Continuant amb l'exercici 4 del nivell 1: al client es va oblidar de comentar un detall i resulta que els valors en el diccionari original poden duplicar-se i més, per la qual cosa les claus intercanviades poden tenir duplicats. En aquest cas, en l'exercici anterior imprimies un missatge d'advertiment, ara, els valors del diccionari resultant hauran d'emmagatzemar-se com una llista. Tingues en compte que si és un valor únic no ha de ser una llista."
   ]
  },
  {
   "cell_type": "code",
   "execution_count": 10,
   "metadata": {},
   "outputs": [
    {
     "name": "stdout",
     "output_type": "stream",
     "text": [
      "{1: 'a', 2: ['b', 'g'], 3: ['c', 'd'], 4: 'e', 5: 'f'}\n"
     ]
    }
   ],
   "source": [
    "diccionario = {'a': 1, 'b': 2, 'c': 3, 'd': 3, 'e': 4, 'f': 5, 'g': 2}\n",
    "diccionario_invertido = {}\n",
    "\n",
    "for x, y in diccionario.items():\n",
    "    if y in diccionario_invertido.keys():\n",
    "        diccionario_invertido[y] = [diccionario_invertido[y]]  # Convertir a lista\n",
    "        diccionario_invertido[y].append(x)  # Agregar el nuevo valor\n",
    "    else:\n",
    "        diccionario_invertido[y] = x\n",
    "\n",
    "print(diccionario_invertido)"
   ]
  },
  {
   "cell_type": "markdown",
   "metadata": {},
   "source": [
    "Exercici 2\n",
    "Conversió de tipus de dades\n",
    "\n",
    "El client rep una llista de dades i necessita generar dues llistes, la primera on estaran tots els elements que es van poder convertir en flotants i l'altra on estan els elements que no es van poder convertir. Exemple de la llista que rep el client: [ '1.3', 'one' , '1e10' , 'seven', '3-1/2', ('2',1,1.4,'not-a-number'), [1,2,'3','3.4']]"
   ]
  },
  {
   "cell_type": "code",
   "execution_count": null,
   "metadata": {},
   "outputs": [
    {
     "name": "stdout",
     "output_type": "stream",
     "text": [
      "[1.3, 10000000000.0, 2.0, 1.0, 1.4, 1.0, 2.0, 3.0, 3.4]\n",
      "['one', 'seven', '3-1/2', 'not-a-number']\n"
     ]
    }
   ],
   "source": [
    "cliente = [ '1.3', 'one' , '1e10' , 'seven', '3-1/2', ('2',1,1.4,'not-a-number'), [1,2,'3','3.4']]\n",
    "cliente_float = []\n",
    "cliente_str = []\n",
    "\n",
    "for x in cliente:\n",
    "    try:\n",
    "        if isinstance(x, (list, tuple)):  # Si el elemento es una lista o una tupla\n",
    "            for y in x:\n",
    "                try:\n",
    "                    cliente_float.append(float(y))\n",
    "                except ValueError:\n",
    "                    cliente_str.append(y)\n",
    "        else:\n",
    "            cliente_float.append(float(x))\n",
    "      \n",
    "    except ValueError:\n",
    "        cliente_str.append(x)\n",
    "\n",
    "print(cliente_float)\n",
    "print(cliente_str)"
   ]
  },
  {
   "cell_type": "markdown",
   "metadata": {},
   "source": [
    "Nivell 3\n",
    "Exercici 1\n",
    "Comptador i endreçador de paraules d'un text.\n",
    "\n",
    "El client va quedar content amb el comptador de paraules, però ara vol llegir arxius TXT i que calculi la freqüència de cada paraula ordenades dins de les entrades habituals del diccionari segons la lletra amb la qual comencen, és a dir, les claus han d'anar de la A a la Z i dins de la A hem d'anar de la A la Z. Per exemple, per a l'arxiu \"tu_me_quieres_blanca.txt\" la sortida esperada seria:"
   ]
  },
  {
   "cell_type": "code",
   "execution_count": null,
   "metadata": {},
   "outputs": [
    {
     "name": "stdout",
     "output_type": "stream",
     "text": [
      "{'a': {'an': 1}, 'c': {'can': 1, 'chapters': 1, 'check': 1}, 'e': {'end': 1, 'exercise': 1}, 'i': {'in': 1}, 'k': {'knowledge.': 1}, 'l': {'level': 1}, 'm': {'many': 1}, 'o': {'of': 1}, 't': {'this': 1, 'tutorial': 1}, 'w': {'where': 1, 'with': 1}, 'y': {'you': 1, 'your': 1}}\n"
     ]
    }
   ],
   "source": [
    "texto = input(\"Dime un texto\")\n",
    "palabras = texto.split()\n",
    "palabras_texto = {}\n",
    "palabras_ordenadas = {}\n",
    "diccionario = {}\n",
    "\n",
    "for x in palabras:\n",
    "    x = x.lower()\n",
    "    if x in palabras_texto:\n",
    "        palabras_texto[x] += 1 \n",
    "    else:\n",
    "        palabras_texto[x] = 1    \n",
    "\n",
    "palabras_ordenadas = dict(sorted(palabras_texto.items()))\n",
    "\n",
    "for y in palabras_ordenadas:\n",
    "    primera_letra = y[0]\n",
    "    \n",
    "    if primera_letra not in diccionario:  # Si no está la primera letra en el diccionario, la creamos\n",
    "        diccionario[primera_letra] = {}\n",
    "    \n",
    "    diccionario[primera_letra][y] = palabras_ordenadas[y]\n",
    "\n",
    "print(diccionario)\n",
    "\n"
   ]
  }
 ],
 "metadata": {
  "kernelspec": {
   "display_name": "Python 3",
   "language": "python",
   "name": "python3"
  },
  "language_info": {
   "codemirror_mode": {
    "name": "ipython",
    "version": 3
   },
   "file_extension": ".py",
   "mimetype": "text/x-python",
   "name": "python",
   "nbconvert_exporter": "python",
   "pygments_lexer": "ipython3",
   "version": "3.13.1"
  }
 },
 "nbformat": 4,
 "nbformat_minor": 2
}
