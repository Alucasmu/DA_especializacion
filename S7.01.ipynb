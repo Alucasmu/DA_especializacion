{
 "cells": [
  {
   "cell_type": "code",
   "execution_count": 9,
   "metadata": {},
   "outputs": [],
   "source": [
    "import pandas as pd\n"
   ]
  },
  {
   "cell_type": "markdown",
   "metadata": {},
   "source": [
    "- Exercici 1\n",
    "Calculadora de l'índex de massa corporal\n",
    "\n",
    "Escriu una funció que calculi l'IMC ingressat per l'usuari/ària, és a dir, qui ho executi haurà d'ingressar aquestes dades. Pots obtenir més informació del seu càlcul en:\n",
    "\n",
    "-> Índice de masa corporal IMC que es y como se calcula.\n",
    "\n",
    "La funció ha de classificar el resultat en les seves respectives categories"
   ]
  },
  {
   "cell_type": "code",
   "execution_count": 12,
   "metadata": {},
   "outputs": [],
   "source": [
    "def calculo_imc():\n",
    "    try:\n",
    "        peso = float(input (f\"Dime tu peso en kg\"))\n",
    "        altura = float(input (f\"Dime tu altura en metros\"))\n",
    "\n",
    "        if peso > 0 and altura > 0:\n",
    "            imc = round(peso/(altura**2), 2)\n",
    "            if not isinstance(imc, (int, float)):   # Verifica si el resultado es numérico\n",
    "                print(\"Introduce datos numéricos\")\n",
    "            \n",
    "            if imc < 18.5:\n",
    "                categoria = \"Bajo Peso\"\n",
    "            elif 18.5 <= imc < 25:\n",
    "                categoria = \"Peso Normal\" \n",
    "            elif 25 <= imc < 30:\n",
    "                categoria = \"Sobrepeso\"  \n",
    "            else:\n",
    "                categoria = \"Obesidad\"\n",
    "\n",
    "            print(f\"Tu índice de masa corporal es {imc} y tu categoría es {categoria}\")\n",
    "      \n",
    "        else:\n",
    "            print(\"Introde un número mayor que 0\")\n",
    "\n",
    "    except ValueError:\n",
    "        print(\"Introduce un número válido\")\n",
    "\n"
   ]
  },
  {
   "cell_type": "code",
   "execution_count": 13,
   "metadata": {},
   "outputs": [
    {
     "name": "stdout",
     "output_type": "stream",
     "text": [
      "Tu índice de masa corporal es 21.2 y tu categoría es Peso Normal\n"
     ]
    }
   ],
   "source": [
    "calculo_imc()"
   ]
  },
  {
   "cell_type": "markdown",
   "metadata": {},
   "source": [
    "- Exercici 2\n",
    "Convertidor de temperatures.\n",
    "\n",
    "Existeixen diverses unitats de temperatura utilitzades en diferents contextos i regions. Les més comunes són Celsius (°C), Fahrenheit (°F) i Kelvin (K). També existeixen altres unitats com Rankine (°Ra) i Réaumur (°Re). Selecciona almenys 2 conversors, de tal manera que en introduir una temperatura retorni, com a mínim, dues conversions."
   ]
  },
  {
   "cell_type": "code",
   "execution_count": 14,
   "metadata": {},
   "outputs": [],
   "source": [
    "def conversor_temperatura():\n",
    "    try:\n",
    "        grados = float(input (f\"Dime la temperatura en grados\"))\n",
    "        escala = input (f\"Dime en qué escala están los grados: Celsius (C), Fahrenheit (F) o Kelvin (K)\") \n",
    "\n",
    "        if escala.upper() in ['C','F','K']:\n",
    "            if escala.upper() == 'C':\n",
    "                grados_F = round((grados * 9/5) + 32, 2)\n",
    "                if not isinstance(grados_F, (int, float)):   # Verifica si el resultado es numérico\n",
    "                    print(\"Introduce grados numéricos\")\n",
    "                grados_K = round(grados + 273.15, 2)\n",
    "                if not isinstance(grados_K, (int, float)):   # Verifica si el resultado es numérico\n",
    "                    print(\"Introduce grados numéricos\")\n",
    "                print(f\"La temperatura es {grados} ºC, {grados_F} ºF, {grados_K} ºK\")\n",
    "            elif escala.upper() == 'F':\n",
    "                grados_C = round((grados - 32) * 5/9, 2)\n",
    "                if not isinstance(grados_C, (int, float)):   # Verifica si el resultado es numérico\n",
    "                    print(\"Introduce grados numéricos\")\n",
    "                grados_K = round((grados -32) * 5/9 + 273.15, 2)\n",
    "                if not isinstance(grados_K, (int, float)):   # Verifica si el resultado es numérico\n",
    "                    print(\"Introduce grados numéricos\")\n",
    "                print(f\"La temperatura es {grados} ºF, {grados_C} ºC, {grados_K} ºK\")\n",
    "            elif escala.upper() == 'K':\n",
    "                grados_C = round(grados - 273.15, 2)\n",
    "                if not isinstance(grados_C, (int, float)):   # Verifica si el resultado es numérico\n",
    "                    print(\"Introduce grados numéricos\")\n",
    "                grados_F = round(((grados - 273.15) * 9/5) + 32, 2)\n",
    "                if not isinstance(grados_F, (int, float)):   # Verifica si el resultado es numérico\n",
    "                    print(\"Introduce grados numéricos\")\n",
    "                print(f\"La temperatura es {grados} ºK, {grados_C} ºC, {grados_F} ºF\")\n",
    "        else:\n",
    "            print(\"Introde una escala válida\")    \n",
    "\n",
    "    except ValueError:\n",
    "        print(\"Introduce un valor válido\")\n"
   ]
  },
  {
   "cell_type": "code",
   "execution_count": 15,
   "metadata": {},
   "outputs": [
    {
     "name": "stdout",
     "output_type": "stream",
     "text": [
      "La temperatura es 25.0 ºC, 77.0 ºF, 298.15 ºK\n"
     ]
    }
   ],
   "source": [
    "conversor_temperatura()"
   ]
  },
  {
   "cell_type": "markdown",
   "metadata": {},
   "source": [
    "- Exercici 3\n",
    "Comptador de paraules d'un text.\n",
    "\n",
    "Escriu una funció que donat un text, mostri les vegades que apareix cada paraula."
   ]
  },
  {
   "cell_type": "code",
   "execution_count": null,
   "metadata": {},
   "outputs": [],
   "source": [
    "import string\n",
    "\n",
    "def contador_palabras():\n",
    "    texto = input(\"Dime un texto\")\n",
    "    texto = texto.translate(str.maketrans(\"\", \"\", string.punctuation))  # Elimina signos de puntuación del texto\n",
    "    palabras = texto.split()\n",
    "    palabras_texto = {}\n",
    "\n",
    "    for x in palabras:\n",
    "        x = x.lower()\n",
    "        if x in palabras_texto:\n",
    "            palabras_texto[x] += 1 \n",
    "        else:\n",
    "            palabras_texto[x] = 1    \n",
    "\n",
    "    print(palabras_texto)\n",
    "\n",
    "    for palabra, repeticiones in palabras_texto.items():\n",
    "        print(f\"{palabra}: {repeticiones}\")\n"
   ]
  },
  {
   "cell_type": "code",
   "execution_count": 17,
   "metadata": {},
   "outputs": [
    {
     "name": "stdout",
     "output_type": "stream",
     "text": [
      "{'resulta': 1, 'que': 2, 'el': 3, 'client': 1, 'té': 1, 'una': 1, 'enquesta': 1, 'molt': 1, 'antiga': 1, 'semmagatzema': 1, 'en': 2, 'un': 2, 'diccionari': 2, 'i': 3, 'els': 4, 'resultats': 1, 'necessita': 1, 'al': 1, 'revés': 1, 'és': 2, 'a': 1, 'dir': 1, 'intercanviats': 1, 'les': 1, 'claus': 2, 'valors': 2, 'original': 1, 'són': 1, 'únics': 1, 'si': 1, 'aquest': 1, 'no': 1, 'cas': 1, 'la': 1, 'funció': 1, 'hauria': 1, 'dimprimir': 1, 'missatge': 1, 'dadvertiment': 1}\n",
      "resulta: 1\n",
      "que: 2\n",
      "el: 3\n",
      "client: 1\n",
      "té: 1\n",
      "una: 1\n",
      "enquesta: 1\n",
      "molt: 1\n",
      "antiga: 1\n",
      "semmagatzema: 1\n",
      "en: 2\n",
      "un: 2\n",
      "diccionari: 2\n",
      "i: 3\n",
      "els: 4\n",
      "resultats: 1\n",
      "necessita: 1\n",
      "al: 1\n",
      "revés: 1\n",
      "és: 2\n",
      "a: 1\n",
      "dir: 1\n",
      "intercanviats: 1\n",
      "les: 1\n",
      "claus: 2\n",
      "valors: 2\n",
      "original: 1\n",
      "són: 1\n",
      "únics: 1\n",
      "si: 1\n",
      "aquest: 1\n",
      "no: 1\n",
      "cas: 1\n",
      "la: 1\n",
      "funció: 1\n",
      "hauria: 1\n",
      "dimprimir: 1\n",
      "missatge: 1\n",
      "dadvertiment: 1\n"
     ]
    }
   ],
   "source": [
    "contador_palabras()"
   ]
  },
  {
   "cell_type": "markdown",
   "metadata": {},
   "source": [
    "- Exercici 4\n",
    "Diccionari invers.\n",
    "\n",
    "Resulta que el client té una enquesta molt antiga que s'emmagatzema en un diccionari i els resultats els necessita al revés, és a dir, intercanviats les claus i els valors. Els valors i claus en el diccionari original són únics; si aquest no és el cas, la funció hauria d'imprimir un missatge d'advertiment.\n"
   ]
  },
  {
   "cell_type": "code",
   "execution_count": 18,
   "metadata": {},
   "outputs": [],
   "source": [
    "def dicc_inver(diccionario):\n",
    "    diccionario_invertido = {}\n",
    "\n",
    "    for x, y in diccionario.items():\n",
    "        if y in diccionario_invertido.keys():\n",
    "            print(f\"La clave {y} está repetida\")\n",
    "        else:\n",
    "            diccionario_invertido[y] = x\n",
    "\n",
    "    print(diccionario_invertido)\n",
    "\n"
   ]
  },
  {
   "cell_type": "code",
   "execution_count": 19,
   "metadata": {},
   "outputs": [
    {
     "name": "stdout",
     "output_type": "stream",
     "text": [
      "La clave 3 está repetida\n",
      "La clave 2 está repetida\n",
      "{1: 'a', 2: 'b', 3: 'c', 4: 'e', 5: 'f'}\n"
     ]
    }
   ],
   "source": [
    "diccionario = {'a': 1, 'b': 2, 'c': 3, 'd': 3, 'e': 4, 'f': 5, 'g': 2}\n",
    "\n",
    "dicc_inver(diccionario)"
   ]
  },
  {
   "cell_type": "markdown",
   "metadata": {},
   "source": [
    "Nivell 2\n",
    "\n",
    "Exercici 1\n",
    "Diccionari invers amb duplicats\n",
    "\n",
    "Continuant amb l'exercici 4 del nivell 1: al client es va oblidar de comentar un detall i resulta que els valors en el diccionari original poden duplicar-se i més, per la qual cosa les claus intercanviades poden tenir duplicats. En aquest cas, en l'exercici anterior imprimies un missatge d'advertiment, ara, els valors del diccionari resultant hauran d'emmagatzemar-se com una llista. Tingues en compte que si és un valor únic no ha de ser una llista."
   ]
  },
  {
   "cell_type": "code",
   "execution_count": 20,
   "metadata": {},
   "outputs": [],
   "source": [
    "def dicc_inver(diccionario):\n",
    "    diccionario_invertido = {}\n",
    "\n",
    "    for x, y in diccionario.items():\n",
    "        if y in diccionario_invertido.keys():\n",
    "            diccionario_invertido[y] = [diccionario_invertido[y]]  # Convertir a lista\n",
    "            diccionario_invertido[y].append(x)  # Agregar el nuevo valor\n",
    "        else:\n",
    "            diccionario_invertido[y] = x\n",
    "\n",
    "    print(diccionario_invertido)\n"
   ]
  },
  {
   "cell_type": "code",
   "execution_count": 21,
   "metadata": {},
   "outputs": [
    {
     "name": "stdout",
     "output_type": "stream",
     "text": [
      "{1: 'a', 2: ['b', 'g'], 3: ['c', 'd'], 4: 'e', 5: 'f'}\n"
     ]
    }
   ],
   "source": [
    "diccionario = {'a': 1, 'b': 2, 'c': 3, 'd': 3, 'e': 4, 'f': 5, 'g': 2}\n",
    "\n",
    "dicc_inver(diccionario)"
   ]
  },
  {
   "cell_type": "markdown",
   "metadata": {},
   "source": [
    "Exercici 2\n",
    "Conversió de tipus de dades\n",
    "\n",
    "El client rep una llista de dades i necessita generar dues llistes, la primera on estaran tots els elements que es van poder convertir en flotants i l'altra on estan els elements que no es van poder convertir. Exemple de la llista que rep el client: [ '1.3', 'one' , '1e10' , 'seven', '3-1/2', ('2',1,1.4,'not-a-number'), [1,2,'3','3.4']]"
   ]
  },
  {
   "cell_type": "code",
   "execution_count": 22,
   "metadata": {},
   "outputs": [],
   "source": [
    "def lista_datos(cliente):\n",
    "    cliente_float = []\n",
    "    cliente_str = []\n",
    "\n",
    "    for x in cliente:\n",
    "        try:\n",
    "            if isinstance(x, (list, tuple)):  # Si el elemento es una lista o una tupla\n",
    "                for y in x:\n",
    "                    try:\n",
    "                        cliente_float.append(float(y))\n",
    "                    except ValueError:\n",
    "                        cliente_str.append(y)\n",
    "            else:\n",
    "                cliente_float.append(float(x))\n",
    "        \n",
    "        except ValueError:\n",
    "            cliente_str.append(x)\n",
    "\n",
    "    print(cliente_float)\n",
    "    print(cliente_str)\n"
   ]
  },
  {
   "cell_type": "code",
   "execution_count": 23,
   "metadata": {},
   "outputs": [
    {
     "name": "stdout",
     "output_type": "stream",
     "text": [
      "[1.3, 10000000000.0, 2.0, 1.0, 1.4, 1.0, 2.0, 3.0, 3.4]\n",
      "['one', 'seven', '3-1/2', 'not-a-number']\n"
     ]
    }
   ],
   "source": [
    "cliente = [ '1.3', 'one' , '1e10' , 'seven', '3-1/2', ('2',1,1.4,'not-a-number'), [1,2,'3','3.4']]\n",
    "\n",
    "lista_datos(cliente)"
   ]
  },
  {
   "cell_type": "markdown",
   "metadata": {},
   "source": [
    "Nivell 3\n",
    "Exercici 1\n",
    "Comptador i endreçador de paraules d'un text.\n",
    "\n",
    "El client va quedar content amb el comptador de paraules, però ara vol llegir arxius TXT i que calculi la freqüència de cada paraula ordenades dins de les entrades habituals del diccionari segons la lletra amb la qual comencen, és a dir, les claus han d'anar de la A a la Z i dins de la A hem d'anar de la A la Z. Per exemple, per a l'arxiu \"tu_me_quieres_blanca.txt\" la sortida esperada seria:"
   ]
  },
  {
   "cell_type": "code",
   "execution_count": 24,
   "metadata": {},
   "outputs": [],
   "source": [
    "import string\n",
    "\n",
    "def contador_diccionario():\n",
    "    texto = input(\"Dime un texto\")\n",
    "    texto = texto.translate(str.maketrans(\"\", \"\", string.punctuation))  # Elimina signos de puntuación del texto\n",
    "    palabras = texto.split()\n",
    "    palabras_texto = {}\n",
    "    palabras_ordenadas = {}\n",
    "    diccionario = {}\n",
    "\n",
    "    for x in palabras:\n",
    "        x = x.lower()\n",
    "        if x in palabras_texto:\n",
    "            palabras_texto[x] += 1 \n",
    "        else:\n",
    "            palabras_texto[x] = 1    \n",
    "\n",
    "    palabras_ordenadas = dict(sorted(palabras_texto.items()))\n",
    "\n",
    "    for y in palabras_ordenadas:\n",
    "        primera_letra = y[0]\n",
    "        \n",
    "        if primera_letra not in diccionario:  # Si no está la primera letra en el diccionario, la creamos\n",
    "            diccionario[primera_letra] = {}\n",
    "        \n",
    "        diccionario[primera_letra][y] = palabras_ordenadas[y]\n",
    "\n",
    "    print(diccionario)\n"
   ]
  },
  {
   "cell_type": "code",
   "execution_count": 25,
   "metadata": {},
   "outputs": [
    {
     "name": "stdout",
     "output_type": "stream",
     "text": [
      "{'a': {'a': 6, 'amb': 2, 'ara': 1, 'arxius': 1}, 'c': {'cada': 1, 'calculi': 1, 'claus': 1, 'client': 1, 'comencen': 1, 'comptador': 1, 'content': 1}, 'd': {'danar': 2, 'de': 6, 'del': 1, 'diccionari': 1, 'dins': 2, 'dir': 1}, 'e': {'el': 2, 'entrades': 1, 'esperada': 1, 'exemple': 1}, 'f': {'freqüència': 1}, 'h': {'habituals': 1, 'han': 1, 'hem': 1}, 'i': {'i': 2}, 'l': {'la': 9, 'larxiu': 1, 'les': 2, 'llegir': 1, 'lletra': 1}, 'o': {'ordenades': 1}, 'p': {'paraula': 1, 'paraules': 1, 'per': 2, 'però': 1}, 'q': {'qual': 1, 'que': 1, 'quedar': 1}, 's': {'segons': 1, 'seria': 1, 'sortida': 1}, 't': {'tumequieresblancatxt': 1, 'txt': 1}, 'v': {'va': 1, 'vol': 1}, 'z': {'z': 2}, 'é': {'és': 1}}\n"
     ]
    }
   ],
   "source": [
    "contador_diccionario()"
   ]
  }
 ],
 "metadata": {
  "kernelspec": {
   "display_name": "myenv",
   "language": "python",
   "name": "python3"
  },
  "language_info": {
   "codemirror_mode": {
    "name": "ipython",
    "version": 3
   },
   "file_extension": ".py",
   "mimetype": "text/x-python",
   "name": "python",
   "nbconvert_exporter": "python",
   "pygments_lexer": "ipython3",
   "version": "3.10.13"
  }
 },
 "nbformat": 4,
 "nbformat_minor": 2
}
